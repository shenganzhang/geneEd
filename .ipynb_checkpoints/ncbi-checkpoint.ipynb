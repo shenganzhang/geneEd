{
 "cells": [
  {
   "cell_type": "code",
   "execution_count": 115,
   "metadata": {},
   "outputs": [],
   "source": [
    "import entrezpy.conduit"
   ]
  },
  {
   "cell_type": "code",
   "execution_count": 116,
   "metadata": {},
   "outputs": [],
   "source": [
    "email = 'xinyugu4@illinois.edu'"
   ]
  },
  {
   "cell_type": "code",
   "execution_count": 117,
   "metadata": {},
   "outputs": [],
   "source": [
    "w = entrezpy.conduit.Conduit(email)"
   ]
  },
  {
   "cell_type": "code",
   "execution_count": 118,
   "metadata": {
    "scrolled": true
   },
   "outputs": [
    {
     "name": "stdout",
     "output_type": "stream",
     "text": [
      "<?xml version=\"1.0\" encoding=\"UTF-8\"  ?>\n",
      "<!DOCTYPE TSeqSet PUBLIC \"-//NCBI//NCBI TSeq/EN\" \"https://www.ncbi.nlm.nih.gov/dtd/NCBI_TSeq.dtd\">\n",
      "<TSeqSet>\n",
      "<TSeq>\n",
      "  <TSeq_seqtype value=\"protein\"/>\n",
      "  <TSeq_accver>NP_001289620.1</TSeq_accver>\n",
      "  <TSeq_taxid>9606</TSeq_taxid>\n",
      "  <TSeq_orgname>Homo sapiens</TSeq_orgname>\n",
      "  <TSeq_defline>apolipoprotein E isoform b precursor [Homo sapiens]</TSeq_defline>\n",
      "  <TSeq_length>317</TSeq_length>\n",
      "  <TSeq_sequence>MKVLWAALLVTFLAGCQAKVEQAVETEPEPELRQQTEWQSGQRWELALGRFWDYLRWVQTLSEQVQEELLSSQVTQELRALMDETMKELKAYKSELEEQLTPVAEETRARLSKELQAAQARLGADMEDVCGRLVQYRGEVQAMLGQSTEELRVRLASHLRKLRKRLLRDADDLQKRLAVYQAGAREGAERGLSAIRERLGPLVEQGRVRAATVGSLAGQPLQERAQAWGERLRARMEEMGSRTRDRLDEVKEQVAEVRAKLEEQAQQIRLQAEAFQARLKSWFEPLVEDMQRQWAGLVEKVQAAVGTSAAPVPSDNH</TSeq_sequence>\n",
      "</TSeq>\n",
      "\n",
      "</TSeqSet>\n",
      "\n"
     ]
    }
   ],
   "source": [
    "fetchProtein = w.new_pipeline()\n",
    "query = {'db':'gene', 'term': 'APOE[sym] AND human[ORGN]'}\n",
    "sid = fetchProtein.add_search(query)\n",
    "lid = fetchProtein.add_link({'cmd':'neighbor_history', 'db':'protein'}, dependency=sid)\n",
    "lid = fetchProtein.add_search({'cmd':'neighbor_history'}, dependency=lid)\n",
    "fid = fetchProtein.add_fetch({'retmax': 1, 'retmode':'xml','rettype':'fasta'}, dependency=lid)\n",
    "protein_res = w.run(fetchProtein).get_result()"
   ]
  },
  {
   "cell_type": "code",
   "execution_count": 120,
   "metadata": {},
   "outputs": [
    {
     "name": "stderr",
     "output_type": "stream",
     "text": [
      "IOPub data rate exceeded.\n",
      "The notebook server will temporarily stop sending output\n",
      "to the client in order to avoid crashing it.\n",
      "To change this limit, set the config variable\n",
      "`--NotebookApp.iopub_data_rate_limit`.\n",
      "\n",
      "Current values:\n",
      "NotebookApp.iopub_data_rate_limit=1000000.0 (bytes/sec)\n",
      "NotebookApp.rate_limit_window=3.0 (secs)\n",
      "\n"
     ]
    }
   ],
   "source": [
    "fetchGene = w.new_pipeline()\n",
    "query = {'db':'gene', 'term': 'APP[sym] AND human[ORGN]'}\n",
    "sid = fetchGene.add_search(query)\n",
    "\n",
    "lid = fetchGene.add_link({'cmd':'neighbor_history', 'db':'Nucleotide'}, dependency=sid)\n",
    "lid = fetchGene.add_search({'cmd':'neighbor_history', 'reqsize' : 100}, dependency=lid)\n",
    "\n",
    "fid = fetchGene.add_fetch({'retmax': 1, 'retmode':'xml','rettype':'fasta'}, dependency=sid)\n",
    "res = w.run(fetchGene).get_result()"
   ]
  },
  {
   "cell_type": "code",
   "execution_count": null,
   "metadata": {},
   "outputs": [],
   "source": []
  }
 ],
 "metadata": {
  "kernelspec": {
   "display_name": "Python 3",
   "language": "python",
   "name": "python3"
  },
  "language_info": {
   "codemirror_mode": {
    "name": "ipython",
    "version": 3
   },
   "file_extension": ".py",
   "mimetype": "text/x-python",
   "name": "python",
   "nbconvert_exporter": "python",
   "pygments_lexer": "ipython3",
   "version": "3.7.4"
  }
 },
 "nbformat": 4,
 "nbformat_minor": 2
}
